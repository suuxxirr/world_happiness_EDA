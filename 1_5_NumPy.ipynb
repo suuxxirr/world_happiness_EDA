{
  "cells": [
    {
      "cell_type": "code",
      "source": [
        "arr = np.array([1,2,3,4,5], dtype='S')\n",
        "print(arr)\n",
        "print(arr.dtype)\n"
      ],
      "metadata": {
        "colab": {
          "base_uri": "https://localhost:8080/"
        },
        "id": "HXKNuHP3K6MS",
        "outputId": "75ae0b4f-1d6f-4232-9fee-4b36b2a37e4f"
      },
      "execution_count": null,
      "outputs": [
        {
          "output_type": "stream",
          "name": "stdout",
          "text": [
            "[b'1' b'2' b'3' b'4' b'5']\n",
            "|S1\n"
          ]
        }
      ]
    },
    {
      "cell_type": "markdown",
      "metadata": {
        "id": "bvOKhy-hDm9d"
      },
      "source": [
        "# NumPy\n",
        "- Numerical Python\n",
        "- 배열(Array)을 다루는 파이썬 라이브러리\n",
        "- 머신러닝 연산과정에서 필수적\n",
        "- 오픈소스 프로젝트이며, 무료로 사용 가능"
      ]
    },
    {
      "cell_type": "code",
      "execution_count": null,
      "metadata": {
        "colab": {
          "base_uri": "https://localhost:8080/"
        },
        "id": "Vaw1c2wRDm9f",
        "outputId": "572f81b2-8cf4-47b8-dffa-b438b37c7a33"
      },
      "outputs": [
        {
          "output_type": "stream",
          "name": "stdout",
          "text": [
            "Requirement already satisfied: numpy in /usr/local/lib/python3.10/dist-packages (1.23.5)\n"
          ]
        }
      ],
      "source": [
        "%pip install numpy"
      ]
    },
    {
      "cell_type": "code",
      "execution_count": null,
      "metadata": {
        "id": "Tmx6GwSGDm9g"
      },
      "outputs": [],
      "source": [
        "# 불러오기\n",
        "import numpy as np"
      ]
    },
    {
      "cell_type": "code",
      "execution_count": null,
      "metadata": {
        "colab": {
          "base_uri": "https://localhost:8080/"
        },
        "id": "Pcl_1EMuDm9g",
        "outputId": "463dcae5-727c-4850-8f17-3cb607386e5f"
      },
      "outputs": [
        {
          "output_type": "stream",
          "name": "stdout",
          "text": [
            "1.23.5\n"
          ]
        }
      ],
      "source": [
        "# 버전 확인\n",
        "print(np.__version__)"
      ]
    },
    {
      "cell_type": "code",
      "execution_count": null,
      "metadata": {
        "colab": {
          "base_uri": "https://localhost:8080/"
        },
        "id": "8iSyDTzBDm9g",
        "outputId": "91fca37b-471b-49b7-e5ef-bf921352d91f"
      },
      "outputs": [
        {
          "output_type": "stream",
          "name": "stdout",
          "text": [
            "[1 2 3 4 5]\n",
            "<class 'numpy.ndarray'>\n",
            "int64\n"
          ]
        }
      ],
      "source": [
        "# numpy array 만들기 - 1차원\n",
        "arr = np.array([1, 2, 3, 4, 5])\n",
        "\n",
        "print(arr)\n",
        "print(type(arr))\n",
        "print(arr.dtype)"
      ]
    },
    {
      "cell_type": "code",
      "execution_count": null,
      "metadata": {
        "colab": {
          "base_uri": "https://localhost:8080/"
        },
        "id": "BDukmW9JDm9h",
        "outputId": "c93b5cb7-0105-40f8-e7b9-8806f20c13ef"
      },
      "outputs": [
        {
          "output_type": "stream",
          "name": "stdout",
          "text": [
            "[[1 2 3]\n",
            " [4 5 6]]\n"
          ]
        }
      ],
      "source": [
        "# 2차원 numpy array\n",
        "\n",
        "arr2 = np.array([[1, 2, 3], [4, 5, 6]])\n",
        "\n",
        "print(arr2)"
      ]
    },
    {
      "cell_type": "code",
      "execution_count": null,
      "metadata": {
        "colab": {
          "base_uri": "https://localhost:8080/"
        },
        "id": "OO6Y0-nbDm9h",
        "outputId": "715362a1-93a3-4bb6-f56f-052b334a062e"
      },
      "outputs": [
        {
          "output_type": "stream",
          "name": "stdout",
          "text": [
            "[[[1 2 3]\n",
            "  [4 5 6]]\n",
            "\n",
            " [[1 2 3]\n",
            "  [4 5 6]]]\n"
          ]
        }
      ],
      "source": [
        "# 3차원 numpy array\n",
        "arr3 = np.array([[[1, 2, 3], [4, 5, 6]], [[1, 2, 3], [4, 5, 6]]])\n",
        "\n",
        "print(arr3)"
      ]
    },
    {
      "cell_type": "code",
      "execution_count": null,
      "metadata": {
        "colab": {
          "base_uri": "https://localhost:8080/"
        },
        "id": "KXQioCvmDm9h",
        "outputId": "13aa9cee-b374-4cff-ce72-266c7394557d"
      },
      "outputs": [
        {
          "output_type": "stream",
          "name": "stdout",
          "text": [
            "1\n",
            "2\n",
            "3\n"
          ]
        }
      ],
      "source": [
        "# array 차원 확인\n",
        "print(arr.ndim)\n",
        "print(arr2.ndim)\n",
        "print(arr3.ndim)"
      ]
    },
    {
      "cell_type": "code",
      "execution_count": null,
      "metadata": {
        "colab": {
          "base_uri": "https://localhost:8080/"
        },
        "id": "Wx5c8zlmDm9h",
        "outputId": "d7af32d8-6c6d-40b5-d291-3d1e4c92a8ba"
      },
      "outputs": [
        {
          "output_type": "stream",
          "name": "stdout",
          "text": [
            "[[[[[1 2 3 4]]]]]\n",
            "5 차원\n"
          ]
        }
      ],
      "source": [
        "# 더 높은 차원의 array\n",
        "arr = np.array([1, 2, 3, 4], ndmin=5)\n",
        "\n",
        "print(arr)\n",
        "print(arr.ndim, '차원')"
      ]
    },
    {
      "cell_type": "markdown",
      "metadata": {
        "id": "UXQUJ8-jDm9h"
      },
      "source": [
        "# Array Indexing"
      ]
    },
    {
      "cell_type": "code",
      "execution_count": null,
      "metadata": {
        "colab": {
          "base_uri": "https://localhost:8080/"
        },
        "id": "c4gyVj-sDm9i",
        "outputId": "86f01018-e007-46b2-bae7-7eee09d2a7a2"
      },
      "outputs": [
        {
          "output_type": "stream",
          "name": "stdout",
          "text": [
            "1\n",
            "2\n",
            "7\n"
          ]
        }
      ],
      "source": [
        "# 1차원 array에 접근\n",
        "arr = np.array([1, 2, 3, 4])\n",
        "\n",
        "print(arr[0])\n",
        "print(arr[1])\n",
        "print(arr[2]+arr[3])"
      ]
    },
    {
      "cell_type": "code",
      "execution_count": null,
      "metadata": {
        "colab": {
          "base_uri": "https://localhost:8080/"
        },
        "id": "-5n8GuklDm9i",
        "outputId": "6a913a77-a428-4509-cfc5-f0557a34d583"
      },
      "outputs": [
        {
          "output_type": "stream",
          "name": "stdout",
          "text": [
            "첫번째 차원의 두번째 개체 :  2\n"
          ]
        }
      ],
      "source": [
        "# 2차원 array에 접근\n",
        "arr = np.array([[1,2,3,4,5], [6,7,8,9,10]])\n",
        "\n",
        "print('첫번째 차원의 두번째 개체 : ', arr[0, 1])"
      ]
    },
    {
      "cell_type": "code",
      "execution_count": null,
      "metadata": {
        "colab": {
          "base_uri": "https://localhost:8080/"
        },
        "id": "sDpCSrX-Dm9i",
        "outputId": "38f2a8a3-c201-4439-95bc-421d8924bde5"
      },
      "outputs": [
        {
          "output_type": "stream",
          "name": "stdout",
          "text": [
            "첫번째 array의 두번째 array의 세번째 개체 :  6\n"
          ]
        }
      ],
      "source": [
        "# 3차원 array에 접근\n",
        "arr = np.array([[[1, 2, 3], [4, 5, 6]], [[7, 8, 9], [10, 11, 12]]])\n",
        "\n",
        "print('첫번째 array의 두번째 array의 세번째 개체 : ', arr[0, 1, 2])"
      ]
    },
    {
      "cell_type": "code",
      "execution_count": null,
      "metadata": {
        "colab": {
          "base_uri": "https://localhost:8080/"
        },
        "id": "5X78B2GXDm9i",
        "outputId": "7571f1ea-03ed-4423-c1ee-66f3899c3229"
      },
      "outputs": [
        {
          "output_type": "stream",
          "name": "stdout",
          "text": [
            "[4 5 6]\n"
          ]
        }
      ],
      "source": [
        "arr = np.array([[[1, 2, 3], [4, 5, 6]], [[7, 8, 9], [10, 11, 12]]])\n",
        "\n",
        "print(arr[0, 1])"
      ]
    },
    {
      "cell_type": "code",
      "execution_count": null,
      "metadata": {
        "colab": {
          "base_uri": "https://localhost:8080/"
        },
        "id": "gi1ellljDm9i",
        "outputId": "1ac22da8-7fab-46aa-def8-8531db1a3ea4"
      },
      "outputs": [
        {
          "output_type": "stream",
          "name": "stdout",
          "text": [
            "2번째 차원의 마지막 개체 :  10\n"
          ]
        }
      ],
      "source": [
        "# negative indexing\n",
        "arr = np.array([[1,2,3,4,5], [6,7,8,9,10]])\n",
        "\n",
        "print('2번째 차원의 마지막 개체 : ', arr[1, -1])"
      ]
    },
    {
      "cell_type": "markdown",
      "metadata": {
        "id": "eNh16q0HDm9i"
      },
      "source": [
        "# Array Slicing"
      ]
    },
    {
      "cell_type": "code",
      "execution_count": null,
      "metadata": {
        "colab": {
          "base_uri": "https://localhost:8080/"
        },
        "id": "-fYLOWk7Dm9i",
        "outputId": "b8350ba0-3085-4552-dfa1-537daa85360e"
      },
      "outputs": [
        {
          "output_type": "stream",
          "name": "stdout",
          "text": [
            "[2 3 4 5]\n",
            "[2 4]\n",
            "[1 2 3]\n",
            "[ 6  7  8  9 10]\n"
          ]
        }
      ],
      "source": [
        "arr = np.array([1, 2, 3, 4, 5, 6, 7, 8, 9, 10])\n",
        "\n",
        "print(arr[1:5])\n",
        "print(arr[1:5:2])\n",
        "print(arr[:3])\n",
        "print(arr[5:])"
      ]
    },
    {
      "cell_type": "code",
      "execution_count": null,
      "metadata": {
        "colab": {
          "base_uri": "https://localhost:8080/"
        },
        "id": "Wo24qr24Dm9i",
        "outputId": "16cbe11b-f846-43ec-d23a-43d1b74ba7a8"
      },
      "outputs": [
        {
          "output_type": "stream",
          "name": "stdout",
          "text": [
            "[7 8 9]\n"
          ]
        }
      ],
      "source": [
        "# negative slicing\n",
        "arr = np.array([1, 2, 3, 4, 5, 6, 7, 8, 9, 10])\n",
        "\n",
        "print(arr[-4:-1])"
      ]
    },
    {
      "cell_type": "code",
      "execution_count": null,
      "metadata": {
        "colab": {
          "base_uri": "https://localhost:8080/"
        },
        "id": "6NSZwmLSDm9i",
        "outputId": "af8f7bfc-7843-49b2-bc3e-c755804c231b"
      },
      "outputs": [
        {
          "output_type": "stream",
          "name": "stdout",
          "text": [
            "[7 8]\n"
          ]
        }
      ],
      "source": [
        "# 2차원 array slicing - 두번째 개체에서 index 1부터 2까지 반환\n",
        "arr = np.array([[1, 2, 3, 4, 5], [6, 7, 8, 9, 10]])\n",
        "\n",
        "print(arr[1, 1:3])"
      ]
    },
    {
      "cell_type": "code",
      "execution_count": null,
      "metadata": {
        "colab": {
          "base_uri": "https://localhost:8080/"
        },
        "id": "RQiDlc7FDm9i",
        "outputId": "7e72f403-d5c5-4fc3-865a-c07ba486acda"
      },
      "outputs": [
        {
          "output_type": "stream",
          "name": "stdout",
          "text": [
            "[3 8]\n"
          ]
        }
      ],
      "source": [
        "# 2차원 array slicing - 각 개체에서 index 2의 개체 반환\n",
        "arr = np.array([[1, 2, 3, 4, 5], [6, 7, 8, 9, 10]])\n",
        "\n",
        "print(arr[0:2, 2])"
      ]
    },
    {
      "cell_type": "code",
      "execution_count": null,
      "metadata": {
        "colab": {
          "base_uri": "https://localhost:8080/"
        },
        "id": "iMnkhFtKDm9j",
        "outputId": "4b85c06b-2456-4f07-9fa8-0af5efe50616"
      },
      "outputs": [
        {
          "output_type": "stream",
          "name": "stdout",
          "text": [
            "[[2 3 4]\n",
            " [7 8 9]]\n"
          ]
        }
      ],
      "source": [
        "# 2차원 array slicing - 각 개체에서 index 1부터 3까지의 개체 반환\n",
        "arr = np.array([[1, 2, 3, 4, 5], [6, 7, 8, 9, 10]])\n",
        "\n",
        "print(arr[0:2, 1:4])"
      ]
    },
    {
      "cell_type": "markdown",
      "metadata": {
        "id": "ASb3LZqhDm9j"
      },
      "source": [
        "# NumPy Data Types"
      ]
    },
    {
      "cell_type": "code",
      "execution_count": null,
      "metadata": {
        "colab": {
          "base_uri": "https://localhost:8080/"
        },
        "id": "6XcmzFifDm9j",
        "outputId": "c4d4f72d-654c-4627-f910-af5efb7aa0f3"
      },
      "outputs": [
        {
          "output_type": "stream",
          "name": "stdout",
          "text": [
            "int64\n"
          ]
        }
      ],
      "source": [
        "# 데이터타입 확인 - 정수\n",
        "arr = np.array([1, 2, 3, 4, 5])\n",
        "\n",
        "print(arr.dtype)"
      ]
    },
    {
      "cell_type": "code",
      "execution_count": null,
      "metadata": {
        "colab": {
          "base_uri": "https://localhost:8080/"
        },
        "id": "910GwI7RDm9j",
        "outputId": "185097c4-b467-4eca-bcee-cfd9ef45d06a"
      },
      "outputs": [
        {
          "output_type": "stream",
          "name": "stdout",
          "text": [
            "<U9\n"
          ]
        }
      ],
      "source": [
        "# 데이터타입 확인 - 유니코드 문자\n",
        "arr = np.array(['ditto', 'OMG', 'Attention', 'Super Shy'])\n",
        "\n",
        "print(arr.dtype)"
      ]
    },
    {
      "cell_type": "code",
      "execution_count": null,
      "metadata": {
        "colab": {
          "base_uri": "https://localhost:8080/"
        },
        "id": "qo--ZSlMDm9j",
        "outputId": "4f44ff98-82c7-440f-e280-c13fcaafaa9d"
      },
      "outputs": [
        {
          "output_type": "stream",
          "name": "stdout",
          "text": [
            "[1 2 3 4 5]\n",
            "int32\n"
          ]
        }
      ],
      "source": [
        "# array 생성시 데이터타입 지정하기 - 4비트 integer로 지정\n",
        "arr = np.array([1, 2, 3, 4, 5], dtype='i4')\n",
        "\n",
        "print(arr)\n",
        "print(arr.dtype)"
      ]
    },
    {
      "cell_type": "code",
      "execution_count": null,
      "metadata": {
        "colab": {
          "base_uri": "https://localhost:8080/"
        },
        "id": "rZ5o6kCwDm9j",
        "outputId": "5e989dea-16ca-4d8f-ece4-3993c33d264a"
      },
      "outputs": [
        {
          "output_type": "stream",
          "name": "stdout",
          "text": [
            "[b'1' b'2' b'3' b'4' b'5']\n",
            "|S1\n"
          ]
        }
      ],
      "source": [
        "# array 생성시 데이터타입 지정하기 - String으로 지정\n",
        "arr = np.array([1, 2, 3, 4, 5], dtype='S')\n",
        "\n",
        "print(arr)\n",
        "print(arr.dtype)"
      ]
    },
    {
      "cell_type": "code",
      "execution_count": null,
      "metadata": {
        "colab": {
          "base_uri": "https://localhost:8080/",
          "height": 228
        },
        "id": "wQX04WhiDm9j",
        "outputId": "b0610851-1a4d-41bf-abf0-14f3e956a6df"
      },
      "outputs": [
        {
          "output_type": "error",
          "ename": "ValueError",
          "evalue": "invalid literal for int() with base 10: 'a'",
          "traceback": [
            "\u001b[0;31m---------------------------------------------------------------------------\u001b[0m",
            "\u001b[0;31mValueError\u001b[0m                                Traceback (most recent call last)",
            "\u001b[0;32m<ipython-input-32-d2053e724706>\u001b[0m in \u001b[0;36m<cell line: 6>\u001b[0;34m()\u001b[0m\n\u001b[1;32m      4\u001b[0m \u001b[0;31m# arr = np.array(['1', '2'], dtype='i')\u001b[0m\u001b[0;34m\u001b[0m\u001b[0;34m\u001b[0m\u001b[0m\n\u001b[1;32m      5\u001b[0m \u001b[0;34m\u001b[0m\u001b[0m\n\u001b[0;32m----> 6\u001b[0;31m \u001b[0marr\u001b[0m \u001b[0;34m=\u001b[0m \u001b[0mnp\u001b[0m\u001b[0;34m.\u001b[0m\u001b[0marray\u001b[0m\u001b[0;34m(\u001b[0m\u001b[0;34m[\u001b[0m\u001b[0;34m'1'\u001b[0m\u001b[0;34m,\u001b[0m \u001b[0;34m'a'\u001b[0m\u001b[0;34m]\u001b[0m\u001b[0;34m,\u001b[0m \u001b[0mdtype\u001b[0m\u001b[0;34m=\u001b[0m\u001b[0;34m'i'\u001b[0m\u001b[0;34m)\u001b[0m\u001b[0;34m\u001b[0m\u001b[0;34m\u001b[0m\u001b[0m\n\u001b[0m\u001b[1;32m      7\u001b[0m \u001b[0mprint\u001b[0m\u001b[0;34m(\u001b[0m\u001b[0marr\u001b[0m\u001b[0;34m)\u001b[0m\u001b[0;34m\u001b[0m\u001b[0;34m\u001b[0m\u001b[0m\n",
            "\u001b[0;31mValueError\u001b[0m: invalid literal for int() with base 10: 'a'"
          ]
        }
      ],
      "source": [
        "# string to integer와 같이, 자료형 변환이 안되는 경우 ValueError가 난다.\n",
        "\n",
        "# 아랫줄에서 #을 제거하고 실행해보세요.\n",
        "arr = np.array(['1', '2'], dtype='i')\n",
        "\n",
        "# arr = np.array(['1', 'a'], dtype='i')\n",
        "print(arr)"
      ]
    },
    {
      "cell_type": "code",
      "execution_count": null,
      "metadata": {
        "id": "EyuXTgj8Dm9j",
        "outputId": "78f0cb16-a98a-44fe-da44-d00b37aadc2f"
      },
      "outputs": [
        {
          "name": "stdout",
          "output_type": "stream",
          "text": [
            "[1 2 3]\n",
            "int32\n"
          ]
        }
      ],
      "source": [
        "# 기존에 존재하는 array를 데이터타입 바꾸어 새 array로 만들기\n",
        "\n",
        "arr = np.array([1.1, 2.2, 3.3])\n",
        "\n",
        "newarr = arr.astype('i') # arr.astype('int') 로 사용해도 된다.\n",
        "\n",
        "print(newarr)\n",
        "print(newarr.dtype)"
      ]
    },
    {
      "cell_type": "code",
      "execution_count": null,
      "metadata": {
        "colab": {
          "base_uri": "https://localhost:8080/"
        },
        "id": "liyVaAdvDm9k",
        "outputId": "6dc1e940-dc29-47f2-b4e7-bfbb46148a60"
      },
      "outputs": [
        {
          "output_type": "stream",
          "name": "stdout",
          "text": [
            "[ True False  True]\n",
            "bool\n"
          ]
        }
      ],
      "source": [
        "# integer로 구성된 array를 boolean 타입 array로 만들기\n",
        "arr = np.array([1, 0, 3])\n",
        "\n",
        "newarr = arr.astype(bool)\n",
        "\n",
        "print(newarr)\n",
        "print(newarr.dtype)"
      ]
    },
    {
      "cell_type": "markdown",
      "metadata": {
        "id": "xolyOw2KDm9k"
      },
      "source": [
        "# Reshape"
      ]
    },
    {
      "cell_type": "code",
      "execution_count": null,
      "metadata": {
        "id": "0y1E7cOHDm9k",
        "outputId": "a594a844-08f1-4a8a-9641-e13e757089d2"
      },
      "outputs": [
        {
          "name": "stdout",
          "output_type": "stream",
          "text": [
            "[[ 1  2  3  4  5  6]\n",
            " [ 7  8  9 10 11 12]]\n"
          ]
        }
      ],
      "source": [
        "# 1차원에서 2차원으로 변환\n",
        "arr = np.array([1, 2, 3, 4, 5, 6, 7, 8, 9, 10, 11, 12])\n",
        "\n",
        "newarr = arr.reshape(2, 6)\n",
        "\n",
        "print(newarr)"
      ]
    },
    {
      "cell_type": "code",
      "execution_count": null,
      "metadata": {
        "id": "t2x6tup9Dm9k",
        "outputId": "8b7b6c46-0018-4806-a4af-0833cf144841"
      },
      "outputs": [
        {
          "name": "stdout",
          "output_type": "stream",
          "text": [
            "[[[ 1  2  3]\n",
            "  [ 4  5  6]]\n",
            "\n",
            " [[ 7  8  9]\n",
            "  [10 11 12]]]\n"
          ]
        }
      ],
      "source": [
        "# 1차원에서 3차원으로 변환\n",
        "arr = np.array([1, 2, 3, 4, 5, 6, 7, 8, 9, 10, 11, 12])\n",
        "\n",
        "newarr = arr.reshape(2, 2, 3)\n",
        "\n",
        "print(newarr)"
      ]
    },
    {
      "cell_type": "code",
      "execution_count": null,
      "metadata": {
        "id": "QIaVHNlDDm9k",
        "outputId": "b358ab82-3b2f-4a17-be8d-b898c3da5426"
      },
      "outputs": [
        {
          "name": "stdout",
          "output_type": "stream",
          "text": [
            "[[[1 2]\n",
            "  [3 4]]\n",
            "\n",
            " [[5 6]\n",
            "  [7 8]]]\n"
          ]
        }
      ],
      "source": [
        "# Unknown Dimension - 남은 수 하나를 -1로 주면 알아서 reshape해준다.\n",
        "arr = np.array([1, 2, 3, 4, 5, 6, 7, 8])\n",
        "\n",
        "newarr = arr.reshape(2, 2, -1)\n",
        "\n",
        "print(newarr)"
      ]
    },
    {
      "cell_type": "code",
      "execution_count": null,
      "metadata": {
        "id": "-jenIOH6Dm9k",
        "outputId": "a156c105-4868-4315-ccf6-a322a3e48429"
      },
      "outputs": [
        {
          "name": "stdout",
          "output_type": "stream",
          "text": [
            "[[[ 1  2  3  4  5  6  7  8  9 10 11 12]]]\n"
          ]
        }
      ],
      "source": [
        "arr = np.array([1, 2, 3, 4, 5, 6, 7, 8, 9, 10, 11, 12])\n",
        "newarr = arr.reshape(1, 1, -1)\n",
        "print(newarr)"
      ]
    },
    {
      "cell_type": "code",
      "execution_count": null,
      "metadata": {
        "id": "alul7VRBDm9k",
        "outputId": "000472b3-0587-446a-eb9a-2995901b8630"
      },
      "outputs": [
        {
          "name": "stdout",
          "output_type": "stream",
          "text": [
            "[1 2 3 4 5 6]\n"
          ]
        }
      ],
      "source": [
        "# Flattening - 1차원 배열로 변환해줌\n",
        "arr = np.array([[1, 2, 3], [4, 5, 6]])\n",
        "\n",
        "newarr = arr.reshape(-1)\n",
        "# newarr = arr.reshape(6) 과 같다.\n",
        "\n",
        "print(newarr)"
      ]
    },
    {
      "cell_type": "code",
      "execution_count": null,
      "metadata": {
        "id": "0bZ3XizyDm9k",
        "outputId": "9dd9a8e6-22cf-4caa-94fa-0d0986c1ca8e"
      },
      "outputs": [
        {
          "name": "stdout",
          "output_type": "stream",
          "text": [
            "[[1 2 3 4 5 6]]\n"
          ]
        }
      ],
      "source": [
        "arr = np.array([[[1, 2, 3], [4, 5, 6]]])\n",
        "\n",
        "newarr = arr.reshape(1, 6)\n",
        "\n",
        "print(newarr)"
      ]
    },
    {
      "cell_type": "markdown",
      "metadata": {
        "id": "lBmF1K8KDm9l"
      },
      "source": [
        "---\n",
        "### 문제 1\n",
        "아래 1차원 배열을 다음과 같은 배열로 바꿔보세요."
      ]
    },
    {
      "cell_type": "code",
      "execution_count": null,
      "metadata": {
        "colab": {
          "base_uri": "https://localhost:8080/"
        },
        "id": "rtRL-tv2Dm9l",
        "outputId": "938bf957-4e7b-4304-ed99-3e1b71df2ee1"
      },
      "outputs": [
        {
          "output_type": "stream",
          "name": "stdout",
          "text": [
            "[[1]\n",
            " [2]\n",
            " [3]\n",
            " [4]\n",
            " [5]\n",
            " [6]]\n"
          ]
        }
      ],
      "source": [
        "a = np.array([1, 2, 3, 4, 5, 6])\n",
        "\n",
        "# b = a.reshape(6, 1)\n",
        "# b = a.reshape(6, -1)\n",
        "b = a.reshape(-1, 1)\n",
        "\n",
        "print(b)\n",
        "# Output:\n",
        "# [[1]\n",
        "#  [2]\n",
        "#  [3]\n",
        "#  [4]\n",
        "#  [5]\n",
        "#  [6]]"
      ]
    },
    {
      "cell_type": "markdown",
      "metadata": {
        "id": "0EmnM0nrDm9l"
      },
      "source": [
        "### 문제 2"
      ]
    },
    {
      "cell_type": "code",
      "execution_count": null,
      "metadata": {
        "colab": {
          "base_uri": "https://localhost:8080/"
        },
        "id": "4khR5ANlDm9o",
        "outputId": "b7fd17f8-5a6c-40d7-dcbb-7e686554fdb5"
      },
      "outputs": [
        {
          "output_type": "stream",
          "name": "stdout",
          "text": [
            "[[1 2]\n",
            " [3 4]\n",
            " [5 6]]\n"
          ]
        }
      ],
      "source": [
        "a = np.array([1, 2, 3, 4, 5, 6])\n",
        "\n",
        "b = a.reshape(3, 2)\n",
        "# b = a.reshape(3, -1)\n",
        "# b = a.reshape(-1, 2)\n",
        "\n",
        "print(b)\n",
        "# Output:\n",
        "# [[1 2]\n",
        "#  [3 4]\n",
        "#  [5 6]]"
      ]
    },
    {
      "cell_type": "markdown",
      "metadata": {
        "id": "7KZsrqc1Dm9o"
      },
      "source": [
        "### 문제 3"
      ]
    },
    {
      "cell_type": "code",
      "execution_count": null,
      "metadata": {
        "colab": {
          "base_uri": "https://localhost:8080/"
        },
        "id": "j2Z7o-5uDm9o",
        "outputId": "4bc2e78e-4d00-46ae-c2a0-162aa9d41272"
      },
      "outputs": [
        {
          "output_type": "stream",
          "name": "stdout",
          "text": [
            "[1 2 3 4 5 6]\n"
          ]
        }
      ],
      "source": [
        "a = np.array([[1, 2, 3], [4, 5, 6]])\n",
        "\n",
        "# b = a.reshape(6)\n",
        "b = a.reshape(-1)\n",
        "\n",
        "print(b)\n",
        "# Output:\n",
        "# [1 2 3 4 5 6]"
      ]
    },
    {
      "cell_type": "markdown",
      "metadata": {
        "id": "VM8_z_pSDm9o"
      },
      "source": [
        "### 문제 4"
      ]
    },
    {
      "cell_type": "code",
      "execution_count": null,
      "metadata": {
        "id": "AlexAPEdDm9o",
        "outputId": "568e9af8-309f-4368-f5e7-795b91a16e3a"
      },
      "outputs": [
        {
          "name": "stdout",
          "output_type": "stream",
          "text": [
            "[[ 1  2]\n",
            " [ 3  4]\n",
            " [ 5  6]\n",
            " [ 7  8]\n",
            " [ 9 10]\n",
            " [11 12]]\n"
          ]
        }
      ],
      "source": [
        "a = np.array([[[1, 2], [3, 4], [5, 6]],\n",
        "              [[7, 8], [9, 10], [11, 12]]])\n",
        "\n",
        "b = a.reshape(6, 2)\n",
        "# b = a.reshape(6, -1)\n",
        "# b = a.reshape(-1, 2)\n",
        "\n",
        "print(b)\n",
        "# Output:\n",
        "# [[ 1  2]\n",
        "#  [ 3  4]\n",
        "#  [ 5  6]\n",
        "#  [ 7  8]\n",
        "#  [ 9 10]\n",
        "#  [11 12]]"
      ]
    },
    {
      "cell_type": "markdown",
      "metadata": {
        "id": "X0vWueu-Dm9o"
      },
      "source": [
        "### 문제 5"
      ]
    },
    {
      "cell_type": "code",
      "execution_count": null,
      "metadata": {
        "id": "Fb5vg6N9Dm9o",
        "outputId": "5316c9d5-cf03-4ef0-80b8-0e69b5ac86fe"
      },
      "outputs": [
        {
          "name": "stdout",
          "output_type": "stream",
          "text": [
            "[[[ 1  2  3  4]\n",
            "  [ 5  6  7  8]\n",
            "  [ 9 10 11 12]]]\n"
          ]
        }
      ],
      "source": [
        "a = np.array([1, 2, 3, 4, 5, 6, 7, 8, 9, 10, 11, 12])\n",
        "\n",
        "b = a.reshape(1, 3, 4)\n",
        "# b = a.reshape(-1, 3, 4)\n",
        "# b = a.reshape(1, -1, 4)\n",
        "# b = a.reshape(1, 3, -1)\n",
        "\n",
        "print(b)\n",
        "# Output:\n",
        "# [[[ 1  2  3  4]\n",
        "#  [ 5  6  7  8]\n",
        "#  [ 9 10 11 12]]]"
      ]
    },
    {
      "cell_type": "markdown",
      "metadata": {
        "id": "mhhj7pwdDm9o"
      },
      "source": [
        "---"
      ]
    },
    {
      "cell_type": "markdown",
      "metadata": {
        "id": "hvzB8vaTDm9o"
      },
      "source": [
        "# Iterating"
      ]
    },
    {
      "cell_type": "code",
      "execution_count": null,
      "metadata": {
        "colab": {
          "base_uri": "https://localhost:8080/"
        },
        "id": "7lNBngxpDm9o",
        "outputId": "5ec32278-a02d-427f-8aa4-6aeb314ccaf8"
      },
      "outputs": [
        {
          "output_type": "stream",
          "name": "stdout",
          "text": [
            "1 : <class 'numpy.int64'>\n",
            "2 : <class 'numpy.int64'>\n",
            "3 : <class 'numpy.int64'>\n"
          ]
        }
      ],
      "source": [
        "# 1차원 배열에서의 반복\n",
        "arr = np.array([1, 2, 3])\n",
        "\n",
        "for x in arr:\n",
        "    # print(x)\n",
        "    print(f'{x} : {type(x)}')"
      ]
    },
    {
      "cell_type": "code",
      "execution_count": null,
      "metadata": {
        "id": "8hgQepYQDm9o",
        "outputId": "27cf586a-b718-400d-b30e-a82aa16aae46"
      },
      "outputs": [
        {
          "name": "stdout",
          "output_type": "stream",
          "text": [
            "[1 2] : <class 'numpy.ndarray'>\n",
            "[3 4] : <class 'numpy.ndarray'>\n"
          ]
        }
      ],
      "source": [
        "# 2차원 배열에서의 반복 - 1\n",
        "arr = np.array([[1, 2], [3, 4]])\n",
        "\n",
        "for x in arr:\n",
        "    # print(x)\n",
        "    print(f'{x} : {type(x)}')"
      ]
    },
    {
      "cell_type": "code",
      "execution_count": null,
      "metadata": {
        "id": "lYuiMYI1Dm9o",
        "outputId": "cd74fe0e-e799-4d54-becc-b4bfae8df946"
      },
      "outputs": [
        {
          "name": "stdout",
          "output_type": "stream",
          "text": [
            "1\n",
            "2\n",
            "3\n",
            "4\n"
          ]
        }
      ],
      "source": [
        "# 2차원 배열에서의 반복 - 2\n",
        "arr = np.array([[1, 2], [3, 4]])\n",
        "\n",
        "for x in arr:\n",
        "    for y in x:\n",
        "        print(y)"
      ]
    },
    {
      "cell_type": "code",
      "execution_count": null,
      "metadata": {
        "colab": {
          "base_uri": "https://localhost:8080/"
        },
        "id": "J4g5uTZrDm9p",
        "outputId": "b9a811fe-b9ac-456a-f838-cccea1a86e21"
      },
      "outputs": [
        {
          "output_type": "stream",
          "name": "stdout",
          "text": [
            "(2, 3, 2)\n",
            "2\n",
            "3\n"
          ]
        }
      ],
      "source": [
        "# range - 3차원 일 때\n",
        "arr = np.array([[[1, 2], [3, 4], [5, 6]],\n",
        "                [[7, 8], [9, 10], [11, 12]]])\n",
        "\n",
        "print(arr.shape)\n",
        "print(arr.shape[0])\n",
        "print(arr.shape[1])"
      ]
    },
    {
      "cell_type": "code",
      "execution_count": null,
      "metadata": {
        "id": "TmCUCHiIDm9p",
        "outputId": "1cf6735b-b32c-4a31-cd68-1c7434d234d9"
      },
      "outputs": [
        {
          "name": "stdout",
          "output_type": "stream",
          "text": [
            "[1 2]\n",
            "[3 4]\n",
            "[5 6]\n",
            "[7 8]\n",
            "[ 9 10]\n",
            "[11 12]\n"
          ]
        }
      ],
      "source": [
        "# 3차원에서 1차원 배열에 접근하는 반복문\n",
        "for i in range(arr.shape[0]): # range(2) : 0, 1\n",
        "    for j in range(arr.shape[1]): # range(3) : 0, 1, 2\n",
        "        print(arr[i, j])"
      ]
    },
    {
      "cell_type": "code",
      "execution_count": null,
      "metadata": {
        "id": "timQ5KvwDm9p",
        "outputId": "6b1560c3-5838-426e-dd09-25b7bf996c21"
      },
      "outputs": [
        {
          "name": "stdout",
          "output_type": "stream",
          "text": [
            "1\n",
            "2\n",
            "3\n",
            "4\n",
            "5\n",
            "6\n",
            "7\n",
            "8\n",
            "9\n",
            "10\n",
            "11\n",
            "12\n"
          ]
        }
      ],
      "source": [
        "# 3차원일 때 원소에 접근하는 반복문\n",
        "for i in range(arr.shape[0]):\n",
        "    for j in range(arr.shape[1]):\n",
        "        for k in range(arr.shape[2]):\n",
        "            print(arr[i, j, k])"
      ]
    },
    {
      "cell_type": "code",
      "execution_count": null,
      "metadata": {
        "id": "JsImC_kGDm9p",
        "outputId": "1156d2fa-1785-4d96-84c5-9728050478ed"
      },
      "outputs": [
        {
          "name": "stdout",
          "output_type": "stream",
          "text": [
            "(2, 3)\n",
            "2\n",
            "3\n"
          ]
        }
      ],
      "source": [
        "arr = np.array([[1, 2, 3], [4, 5, 6]])\n",
        "\n",
        "print(arr.shape)\n",
        "print(arr.shape[0])\n",
        "print(arr.shape[1])"
      ]
    },
    {
      "cell_type": "code",
      "execution_count": null,
      "metadata": {
        "id": "QTqVTuMqDm9p",
        "outputId": "3e9b7a67-3d31-4156-e43a-024644e8b21d"
      },
      "outputs": [
        {
          "name": "stdout",
          "output_type": "stream",
          "text": [
            "1\n",
            "2\n",
            "3\n",
            "4\n",
            "5\n",
            "6\n"
          ]
        }
      ],
      "source": [
        "# range\n",
        "arr = np.array([[1, 2, 3], [4, 5, 6]])\n",
        "\n",
        "for i in range(arr.shape[0]):\n",
        "    for j in range(arr.shape[1]):\n",
        "        print(arr[i, j])"
      ]
    },
    {
      "cell_type": "code",
      "execution_count": null,
      "metadata": {
        "colab": {
          "base_uri": "https://localhost:8080/"
        },
        "id": "sRwG5r7zDm9p",
        "outputId": "fcb15ec8-737e-4535-bb02-73aa06330d51"
      },
      "outputs": [
        {
          "output_type": "stream",
          "name": "stdout",
          "text": [
            "(0, 0) 1\n",
            "(0, 1) 2\n",
            "(0, 2) 3\n",
            "(1, 0) 4\n",
            "(1, 1) 5\n",
            "(1, 2) 6\n"
          ]
        }
      ],
      "source": [
        "# ndenumerate\n",
        "arr = np.array([[1, 2, 3], [4, 5, 6]])\n",
        "\n",
        "for index, element in np.ndenumerate(arr):\n",
        "    print(index, element)"
      ]
    },
    {
      "cell_type": "code",
      "execution_count": null,
      "metadata": {
        "id": "q1tgL9UbDm9p",
        "outputId": "78cb31f6-eb8f-4d5d-c10d-44c4daa6de66"
      },
      "outputs": [
        {
          "name": "stdout",
          "output_type": "stream",
          "text": [
            "(0, 0, 0) 1\n",
            "(0, 0, 1) 2\n",
            "(0, 1, 0) 3\n",
            "(0, 1, 1) 4\n",
            "(0, 2, 0) 5\n",
            "(0, 2, 1) 6\n",
            "(1, 0, 0) 7\n",
            "(1, 0, 1) 8\n",
            "(1, 1, 0) 9\n",
            "(1, 1, 1) 10\n",
            "(1, 2, 0) 11\n",
            "(1, 2, 1) 12\n"
          ]
        }
      ],
      "source": [
        "# ndenumerate - 3차원\n",
        "arr = np.array([[[1, 2], [3, 4], [5, 6]],\n",
        "                [[7, 8], [9, 10], [11, 12]]])\n",
        "\n",
        "for index, element in np.ndenumerate(arr):\n",
        "    print(index, element)"
      ]
    },
    {
      "cell_type": "markdown",
      "metadata": {
        "id": "ptTNDhBtDm9p"
      },
      "source": [
        "---\n",
        "### 문제 1\n",
        "[[[]]] 의 shape?"
      ]
    },
    {
      "cell_type": "code",
      "execution_count": null,
      "metadata": {
        "id": "8mlPRKHoDm9p",
        "colab": {
          "base_uri": "https://localhost:8080/"
        },
        "outputId": "9e52ffa5-6676-437b-bdc1-0242f73d018c"
      },
      "outputs": [
        {
          "output_type": "stream",
          "name": "stdout",
          "text": [
            "(1, 1, 0)\n"
          ]
        }
      ],
      "source": [
        "arr = np.array([[[]]])\n",
        "\n",
        "print(arr.shape)"
      ]
    },
    {
      "cell_type": "markdown",
      "metadata": {
        "id": "yKGjC_MwDm9p"
      },
      "source": [
        "### 문제 2\n",
        "\n",
        "a를 Output과 같이 만들기 위한 iteration 구문 작성"
      ]
    },
    {
      "cell_type": "code",
      "execution_count": null,
      "metadata": {
        "colab": {
          "base_uri": "https://localhost:8080/"
        },
        "id": "x_WPOhR1Dm9p",
        "outputId": "bffaa160-92ca-42fd-c10b-ad4a0e29d5c9"
      },
      "outputs": [
        {
          "output_type": "stream",
          "name": "stdout",
          "text": [
            "[1 2 3]\n",
            "[4 5 6]\n"
          ]
        }
      ],
      "source": [
        "a = np.array([[[1, 2, 3], [4, 5, 6]]])\n",
        "\n",
        "for x in a:\n",
        "  for y in x:\n",
        "    print(y)\n",
        "\n",
        "\n",
        "# Output:\n",
        "# [1 2 3]\n",
        "# [4 5 6]"
      ]
    },
    {
      "cell_type": "markdown",
      "metadata": {
        "id": "QyRYB8YMDm9p"
      },
      "source": [
        "---"
      ]
    },
    {
      "cell_type": "markdown",
      "metadata": {
        "id": "E9Q884wvDm9p"
      },
      "source": [
        "# Join/Split"
      ]
    },
    {
      "cell_type": "code",
      "execution_count": null,
      "metadata": {
        "colab": {
          "base_uri": "https://localhost:8080/"
        },
        "id": "r7MQ7TqNDm9p",
        "outputId": "5ad3bcbf-76f9-41b1-f773-187dfdb6e414"
      },
      "outputs": [
        {
          "output_type": "stream",
          "name": "stdout",
          "text": [
            "[3 4 1 2]\n"
          ]
        }
      ],
      "source": [
        "# concatenate()을 사용해 여러개의 1차원 array를 연결해보자\n",
        "arr1 = np.array([1, 2])\n",
        "arr2 = np.array([3, 4])\n",
        "\n",
        "# arr = np.concatenate((arr1, arr2))\n",
        "arr = np.concatenate((arr2, arr1))\n",
        "\n",
        "print(arr)"
      ]
    },
    {
      "cell_type": "code",
      "execution_count": null,
      "metadata": {
        "colab": {
          "base_uri": "https://localhost:8080/"
        },
        "id": "SXhxvaQ5Dm9p",
        "outputId": "68975925-0864-4c19-979f-40bd95438f20"
      },
      "outputs": [
        {
          "output_type": "stream",
          "name": "stdout",
          "text": [
            "[[1 2]\n",
            " [3 4]\n",
            " [5 6]\n",
            " [7 8]]\n",
            "[[1 2 5 6]\n",
            " [3 4 7 8]]\n"
          ]
        }
      ],
      "source": [
        "# 2차원의 array를 axis=1 기준으로 연결해보자\n",
        "arr1 = np.array([[1, 2], [3, 4]])\n",
        "arr2 = np.array([[5, 6], [7, 8]])\n",
        "\n",
        "joint_arr_0 = np.concatenate((arr1, arr2), axis=0)\n",
        "joint_arr_1 = np.concatenate((arr1, arr2), axis=1)\n",
        "\n",
        "print(joint_arr_0)\n",
        "print(joint_arr_1)\n",
        "\n",
        "# print(arr)"
      ]
    },
    {
      "cell_type": "code",
      "execution_count": null,
      "metadata": {
        "id": "gPkAQ-UhDm9q",
        "outputId": "c5c5ba30-a6d3-4054-c6b4-627dc7b99b0f"
      },
      "outputs": [
        {
          "name": "stdout",
          "output_type": "stream",
          "text": [
            "[array([1, 2]), array([3, 4]), array([5, 6])]\n",
            "[1 2]\n",
            "[3 4]\n",
            "[5 6]\n"
          ]
        }
      ],
      "source": [
        "# array_split()을 사용해 하나의 array를 3개로 만들어보자\n",
        "arr = np.array([1, 2, 3, 4, 5, 6])\n",
        "\n",
        "newarr = np.array_split(arr, 3)\n",
        "\n",
        "print(newarr)\n",
        "print(newarr[0])\n",
        "print(newarr[1])\n",
        "print(newarr[2])"
      ]
    },
    {
      "cell_type": "markdown",
      "metadata": {
        "id": "_BCDuzQ4Dm9q"
      },
      "source": [
        "# where() - Array Search\n",
        "- 배열에서 특정 값을 검색하고 일치하는 인덱스를 반환할 수 있다.\n",
        "- 배열을 검색하려면 where() 메서드를 사용"
      ]
    },
    {
      "cell_type": "code",
      "execution_count": null,
      "metadata": {
        "id": "1rnb6CcpDm9q",
        "outputId": "112407d0-9dc6-4e51-dd1c-25b547b2127c"
      },
      "outputs": [
        {
          "name": "stdout",
          "output_type": "stream",
          "text": [
            "(array([2, 6, 8]),)\n",
            "<class 'numpy.ndarray'>\n"
          ]
        }
      ],
      "source": [
        "arr = np.array([0, 1, 2, 3, 4, 5, 2, 0, 2])\n",
        "\n",
        "x = np.where(arr == 2)\n",
        "\n",
        "print(x)\n",
        "print(type(x[0]))"
      ]
    },
    {
      "cell_type": "code",
      "execution_count": null,
      "metadata": {
        "id": "cK0gl_OfDm9q",
        "outputId": "4b55cbda-d1dd-4e07-998e-ad4865a00ddc"
      },
      "outputs": [
        {
          "data": {
            "text/plain": [
              "tuple"
            ]
          },
          "execution_count": 7,
          "metadata": {},
          "output_type": "execute_result"
        }
      ],
      "source": [
        "type(x)"
      ]
    },
    {
      "cell_type": "markdown",
      "metadata": {
        "id": "pp2vMihdDm9q"
      },
      "source": [
        "# sort() - Array Sort\n",
        "- 요소(elements)들을 정렬된 순서대로 배치하는 것을 의미함\n",
        "- 순서가 있는 시퀀스는 숫자, 알파벳, 오름차순 또는 내림차순과 같이 요소에 해당하는 순서가 있는 모든 시퀀스\n",
        "- NumPy ndarray 객체에는 지정된 배열을 정렬하는 sort()라는 함수가 있다."
      ]
    },
    {
      "cell_type": "code",
      "execution_count": null,
      "metadata": {
        "id": "aYEWcLHqDm9q",
        "outputId": "d34c24e5-5ef2-4bd2-8ae7-1a98ff2d7636"
      },
      "outputs": [
        {
          "name": "stdout",
          "output_type": "stream",
          "text": [
            "['BTS' 'Black Pink' 'Newjeans']\n",
            "['Newjeans' 'Black Pink' 'BTS']\n"
          ]
        }
      ],
      "source": [
        "arr = np.array(['Newjeans', 'BTS', 'Black Pink'])\n",
        "\n",
        "print(np.sort(arr))\n",
        "\n",
        "# 반대방향으로 정렬\n",
        "reversed_arr = np.sort(arr)[::-1]\n",
        "print(reversed_arr)"
      ]
    },
    {
      "cell_type": "code",
      "execution_count": null,
      "metadata": {
        "id": "33DS5kwKDm9q",
        "outputId": "ffc8318f-9499-40a2-a337-cede8c282448"
      },
      "outputs": [
        {
          "name": "stdout",
          "output_type": "stream",
          "text": [
            "['Newjeans' 'BTS' 'Black Pink']\n"
          ]
        }
      ],
      "source": [
        "# 원본 array 는 바뀌지 않음\n",
        "print(arr)"
      ]
    },
    {
      "cell_type": "code",
      "execution_count": null,
      "metadata": {
        "id": "v16TTN3ADm9q",
        "outputId": "17880171-3d51-4bc0-b487-53bbe06b2e35"
      },
      "outputs": [
        {
          "name": "stdout",
          "output_type": "stream",
          "text": [
            "[0 2 3 5 5 6 6 7 9]\n",
            "[9 7 6 6 5 5 3 2 0]\n"
          ]
        }
      ],
      "source": [
        "# 숫자형 정렬\n",
        "arr = np.array([5, 6, 7, 2, 9, 3, 0, 5, 6])\n",
        "\n",
        "print(np.sort(arr))\n",
        "\n",
        "# 반대방향으로 정렬\n",
        "reversed_arr = np.sort(arr)[::-1]\n",
        "print(reversed_arr)"
      ]
    },
    {
      "cell_type": "code",
      "execution_count": null,
      "metadata": {
        "id": "LUtRrj4mDm9q",
        "outputId": "4b560673-d03e-4366-a7b7-3917d3db164e"
      },
      "outputs": [
        {
          "name": "stdout",
          "output_type": "stream",
          "text": [
            "!dlroW ,olleH\n"
          ]
        }
      ],
      "source": [
        "# 참고 - 문자열을 슬라이싱으로 뒤집을 수도 있다.\n",
        "str_1 = 'Hello, World!'\n",
        "print(str_1[::-1])"
      ]
    },
    {
      "cell_type": "markdown",
      "metadata": {
        "id": "YBENk-wfDm9q"
      },
      "source": [
        "# Filter\n",
        "- 기존 배열에서 일부 요소를 가져와서 새 배열을 만드는 것을 필터링이라고 한다.\n",
        "- NumPy에서는 boolean 인덱스 목록을 사용하여 배열을 필터링한다."
      ]
    },
    {
      "cell_type": "code",
      "execution_count": null,
      "metadata": {
        "id": "716XpDZjDm9q",
        "outputId": "0d6b8abc-c7d1-4342-9158-8f2f7a23a6e0"
      },
      "outputs": [
        {
          "name": "stdout",
          "output_type": "stream",
          "text": [
            "[130 162 145]\n"
          ]
        }
      ],
      "source": [
        "arr = np.array([130, 162, 113, 107, 145])\n",
        "\n",
        "x = [True, True, False, False, True]\n",
        "\n",
        "newarr = arr[x]\n",
        "\n",
        "print(newarr)"
      ]
    },
    {
      "cell_type": "code",
      "execution_count": null,
      "metadata": {
        "id": "sTxsx0UVDm9q",
        "outputId": "691b61b0-0dd5-4706-d14e-e649adaf7af8"
      },
      "outputs": [
        {
          "name": "stdout",
          "output_type": "stream",
          "text": [
            "[113, 107]\n"
          ]
        }
      ],
      "source": [
        "newarr_false = [arr[i] for i in range(arr.shape[0]) if x[i] == False]\n",
        "print(newarr_false)"
      ]
    },
    {
      "cell_type": "code",
      "execution_count": null,
      "metadata": {
        "id": "241j_yOUDm9q",
        "outputId": "7484b1fd-8f20-4b56-d4de-277ef6254aad"
      },
      "outputs": [
        {
          "name": "stdout",
          "output_type": "stream",
          "text": [
            "[113, 107]\n"
          ]
        }
      ],
      "source": [
        "newarr_false = []\n",
        "\n",
        "for i in range(arr.shape[0]):\n",
        "    if x[i] == False:\n",
        "        newarr_false.append(arr[i])\n",
        "\n",
        "print(newarr_false)"
      ]
    },
    {
      "cell_type": "code",
      "execution_count": null,
      "metadata": {
        "id": "WUxR3eslDm9r",
        "outputId": "1afa2bcc-0557-4a28-e064-30a2f5b4f58f"
      },
      "outputs": [
        {
          "name": "stdout",
          "output_type": "stream",
          "text": [
            "[True, True, False, False, True]\n",
            "[130 162 145]\n"
          ]
        }
      ],
      "source": [
        "# for문과 if문을 이용해 filter array 만들기\n",
        "arr = np.array([130, 162, 113, 107, 145])\n",
        "\n",
        "filter_arr = []\n",
        "\n",
        "for element in arr:\n",
        "  if element > 120:\n",
        "    filter_arr.append(True)\n",
        "  else:\n",
        "    filter_arr.append(False)\n",
        "\n",
        "newarr = arr[filter_arr]\n",
        "\n",
        "print(filter_arr)\n",
        "print(newarr)"
      ]
    }
  ],
  "metadata": {
    "kernelspec": {
      "display_name": "Python 3",
      "language": "python",
      "name": "python3"
    },
    "language_info": {
      "codemirror_mode": {
        "name": "ipython",
        "version": 3
      },
      "file_extension": ".py",
      "mimetype": "text/x-python",
      "name": "python",
      "nbconvert_exporter": "python",
      "pygments_lexer": "ipython3",
      "version": "3.10.6"
    },
    "orig_nbformat": 4,
    "vscode": {
      "interpreter": {
        "hash": "4e928aa38b2fc246d93d254451b40aa526a716eb2f31e7bb202d1e1f91c7270f"
      }
    },
    "colab": {
      "provenance": []
    }
  },
  "nbformat": 4,
  "nbformat_minor": 0
}